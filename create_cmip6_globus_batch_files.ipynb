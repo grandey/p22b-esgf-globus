{
 "cells": [
  {
   "cell_type": "markdown",
   "id": "e15d8d89",
   "metadata": {},
   "source": [
    "# create_cmip6_globus_batch_files.ipynb\n",
    "Create Globus batch files and scripts for ESGF CMIP6 data of interest.\n",
    "\n",
    "B. Grandey, 2022."
   ]
  },
  {
   "cell_type": "code",
   "execution_count": 1,
   "id": "6d6b0b07",
   "metadata": {},
   "outputs": [
    {
     "name": "stdout",
     "output_type": "stream",
     "text": [
      "Tue Jan 18 17:16:16 +08 2022\r\n"
     ]
    }
   ],
   "source": [
    "! date"
   ]
  },
  {
   "cell_type": "code",
   "execution_count": 2,
   "id": "11a6b552",
   "metadata": {},
   "outputs": [
    {
     "name": "stdout",
     "output_type": "stream",
     "text": [
      "pandas.__version__ = 1.3.5\n",
      "pyesgf.__version__ = 0.3.0\n",
      "re.__version__ = 2.2.1\n"
     ]
    }
   ],
   "source": [
    "import datetime\n",
    "import pandas as pd\n",
    "import pathlib\n",
    "import pyesgf\n",
    "from pyesgf.search import SearchConnection\n",
    "import re\n",
    "\n",
    "# Print versions of packages\n",
    "for module in [pd, pyesgf, re]:\n",
    "    try:\n",
    "        print('{}.__version__ = {}'.format(module.__name__, module.__version__))\n",
    "    except AttributeError:\n",
    "        pass"
   ]
  },
  {
   "cell_type": "markdown",
   "id": "ef7e5ce3",
   "metadata": {},
   "source": [
    "## Base paths"
   ]
  },
  {
   "cell_type": "code",
   "execution_count": 3,
   "id": "abe3c529",
   "metadata": {},
   "outputs": [],
   "source": [
    "# Base path in which to save batch files and scripts\n",
    "out_base = pathlib.Path('cmip6_globus_batch_files/').resolve()\n",
    "out_base.mkdir(exist_ok=True)  # create directory if it does not yet exist\n",
    "# Directory in which to save local cache for search connection\n",
    "cache_dir = pathlib.Path('cache/').resolve()\n",
    "cache_dir.mkdir(exist_ok=True)"
   ]
  },
  {
   "cell_type": "markdown",
   "id": "b2b0e2ef",
   "metadata": {},
   "source": [
    "## Establish search connection"
   ]
  },
  {
   "cell_type": "code",
   "execution_count": 4,
   "id": "791a4d5a",
   "metadata": {},
   "outputs": [
    {
     "data": {
      "text/plain": [
       "<pyesgf.search.connection.SearchConnection at 0x7ff682fbbfd0>"
      ]
     },
     "execution_count": 4,
     "metadata": {},
     "output_type": "execute_result"
    }
   ],
   "source": [
    "# Establish search connection\n",
    "expire_after = datetime.timedelta(days=10)  # cache expiry\n",
    "conn = SearchConnection('https://esgf-node.llnl.gov/esg-search',\n",
    "                        distrib=True,\n",
    "                        cache='cache/pyesgf_cache',  # enable local cache\n",
    "                        expire_after=expire_after)\n",
    "conn"
   ]
  },
  {
   "cell_type": "markdown",
   "id": "94d828d1",
   "metadata": {},
   "source": [
    "## Identify suitable sources (models) and members (ripf variants)\n",
    "Do this by finding source-member pairs that fulfil the following requirements:\n",
    "1. Monthly data are available for at least one of 'zostoga', 'zos', and 'tas' variables.\n",
    "2. Data are available for at least one of 'ssp585', 'ssp370', 'ssp245', and 'ssp126' experiments.\n",
    "3. Data are available for both 'historical' and 'piControl' experiments.\n",
    "4. The member is an 'r1i1' variant (e.g. 'r1i1p1f1', 'r1i1p5f2')."
   ]
  },
  {
   "cell_type": "code",
   "execution_count": 5,
   "id": "8dbe9580",
   "metadata": {},
   "outputs": [
    {
     "name": "stdout",
     "output_type": "stream",
     "text": [
      "ACCESS-CM2 r1i1p1f1: ['historical', 'piControl', 'ssp126', 'ssp245', 'ssp370', 'ssp585']\n",
      "ACCESS-ESM1-5 r1i1p1f1: ['historical', 'piControl', 'ssp126', 'ssp245', 'ssp370', 'ssp585']\n",
      "AWI-CM-1-1-MR r1i1p1f1: ['historical', 'piControl', 'ssp126', 'ssp245', 'ssp370', 'ssp585']\n",
      "BCC-CSM2-MR r1i1p1f1: ['historical', 'piControl', 'ssp126', 'ssp245', 'ssp370', 'ssp585']\n",
      "BCC-ESM1 r1i1p1f1: ['historical', 'piControl', 'ssp370']\n",
      "CAMS-CSM1-0 r1i1p1f1: ['historical', 'piControl', 'ssp126', 'ssp245', 'ssp370', 'ssp585']\n",
      "CAS-ESM2-0 r1i1p1f1: ['historical', 'piControl', 'ssp126', 'ssp245', 'ssp370', 'ssp585']\n",
      "CESM2 r1i1p1f1: ['historical', 'piControl', 'ssp126', 'ssp245', 'ssp370', 'ssp585']\n",
      "CESM2-WACCM r1i1p1f1: ['historical', 'piControl', 'ssp126', 'ssp245', 'ssp370', 'ssp585']\n",
      "CIESM r1i1p1f1: ['historical', 'piControl', 'ssp126', 'ssp245', 'ssp585']\n",
      "CMCC-CM2-SR5 r1i1p1f1: ['historical', 'piControl', 'ssp126', 'ssp245', 'ssp370', 'ssp585']\n",
      "CMCC-ESM2 r1i1p1f1: ['historical', 'piControl', 'ssp126', 'ssp245', 'ssp370', 'ssp585']\n",
      "CNRM-CM6-1 r1i1p1f2: ['historical', 'piControl', 'ssp126', 'ssp245', 'ssp370', 'ssp585']\n",
      "CNRM-CM6-1-HR r1i1p1f2: ['historical', 'piControl', 'ssp126', 'ssp245', 'ssp370', 'ssp585']\n",
      "CNRM-ESM2-1 r1i1p1f2: ['historical', 'piControl', 'ssp126', 'ssp245', 'ssp370', 'ssp585']\n",
      "CanESM5 r1i1p1f1: ['historical', 'piControl', 'ssp126', 'ssp245', 'ssp370', 'ssp585']\n",
      "CanESM5 r1i1p2f1: ['historical', 'piControl', 'ssp126', 'ssp245', 'ssp370', 'ssp585']\n",
      "CanESM5-CanOE r1i1p2f1: ['historical', 'piControl', 'ssp126', 'ssp245', 'ssp370', 'ssp585']\n",
      "E3SM-1-1 r1i1p1f1: ['historical', 'piControl', 'ssp245', 'ssp585']\n",
      "EC-Earth3 r1i1p1f1: ['historical', 'piControl', 'ssp126', 'ssp245', 'ssp370', 'ssp585']\n",
      "EC-Earth3-AerChem r1i1p1f1: ['historical', 'piControl', 'ssp370']\n",
      "EC-Earth3-CC r1i1p1f1: ['historical', 'piControl', 'ssp245', 'ssp585']\n",
      "EC-Earth3-Veg r1i1p1f1: ['historical', 'piControl', 'ssp126', 'ssp245', 'ssp370', 'ssp585']\n",
      "EC-Earth3-Veg-LR r1i1p1f1: ['historical', 'piControl', 'ssp126', 'ssp245', 'ssp370', 'ssp585']\n",
      "FGOALS-f3-L r1i1p1f1: ['historical', 'piControl', 'ssp126', 'ssp245', 'ssp370', 'ssp585']\n",
      "FGOALS-g3 r1i1p1f1: ['historical', 'piControl', 'ssp126', 'ssp245', 'ssp370', 'ssp585']\n",
      "FIO-ESM-2-0 r1i1p1f1: ['historical', 'piControl', 'ssp126', 'ssp245', 'ssp585']\n",
      "GFDL-CM4 r1i1p1f1: ['historical', 'piControl', 'ssp585']\n",
      "GFDL-ESM4 r1i1p1f1: ['historical', 'piControl', 'ssp126', 'ssp245', 'ssp370', 'ssp585']\n",
      "GISS-E2-1-G r1i1p1f2: ['historical', 'piControl', 'ssp126', 'ssp245', 'ssp370', 'ssp585']\n",
      "GISS-E2-1-G r1i1p3f1: ['historical', 'piControl', 'ssp126', 'ssp245', 'ssp370', 'ssp585']\n",
      "GISS-E2-1-G r1i1p5f1: ['historical', 'piControl', 'ssp126', 'ssp245', 'ssp370', 'ssp585']\n",
      "GISS-E2-1-H r1i1p3f1: ['historical', 'piControl', 'ssp245', 'ssp370']\n",
      "IITM-ESM r1i1p1f1: ['historical', 'piControl', 'ssp126', 'ssp245', 'ssp370', 'ssp585']\n",
      "INM-CM4-8 r1i1p1f1: ['historical', 'piControl', 'ssp126', 'ssp245', 'ssp370', 'ssp585']\n",
      "INM-CM5-0 r1i1p1f1: ['historical', 'piControl', 'ssp126', 'ssp245', 'ssp370', 'ssp585']\n",
      "IPSL-CM5A2-INCA r1i1p1f1: ['historical', 'piControl', 'ssp126', 'ssp370']\n",
      "IPSL-CM6A-LR r1i1p1f1: ['historical', 'piControl', 'ssp126', 'ssp245', 'ssp370', 'ssp585']\n",
      "KACE-1-0-G r1i1p1f1: ['historical', 'piControl', 'ssp126', 'ssp245', 'ssp370', 'ssp585']\n",
      "KIOST-ESM r1i1p1f1: ['historical', 'piControl', 'ssp126', 'ssp245', 'ssp585']\n",
      "MIROC-ES2L r1i1p1f2: ['historical', 'piControl', 'ssp126', 'ssp245', 'ssp370', 'ssp585']\n",
      "MIROC6 r1i1p1f1: ['historical', 'piControl', 'ssp126', 'ssp245', 'ssp370', 'ssp585']\n",
      "MPI-ESM-1-2-HAM r1i1p1f1: ['historical', 'piControl', 'ssp370']\n",
      "MPI-ESM1-2-HR r1i1p1f1: ['historical', 'piControl', 'ssp126', 'ssp245', 'ssp370', 'ssp585']\n",
      "MPI-ESM1-2-LR r1i1p1f1: ['historical', 'piControl', 'ssp126', 'ssp245', 'ssp370', 'ssp585']\n",
      "MRI-ESM2-0 r1i1p1f1: ['historical', 'piControl', 'ssp126', 'ssp245', 'ssp370', 'ssp585']\n",
      "NESM3 r1i1p1f1: ['historical', 'piControl', 'ssp126', 'ssp245', 'ssp585']\n",
      "NorESM2-LM r1i1p1f1: ['historical', 'piControl', 'ssp126', 'ssp245', 'ssp370', 'ssp585']\n",
      "NorESM2-MM r1i1p1f1: ['historical', 'piControl', 'ssp126', 'ssp245', 'ssp370', 'ssp585']\n",
      "TaiESM1 r1i1p1f1: ['historical', 'piControl', 'ssp126', 'ssp245', 'ssp370', 'ssp585']\n",
      "UKESM1-0-LL r1i1p1f2: ['historical', 'piControl', 'ssp126', 'ssp245', 'ssp370', 'ssp585']\n",
      "51 source-member pairs identified.\n",
      "CPU times: user 3.19 s, sys: 376 ms, total: 3.56 s\n",
      "Wall time: 5min 8s\n"
     ]
    }
   ],
   "source": [
    "%%time\n",
    "# Create dictionary to hold available experiments (list) for each source-member pair (tuple)\n",
    "source_member_experiment_dict = dict()\n",
    "# Perform initial search for datasets matching first two requirements above\n",
    "ctx1 = conn.new_context(project='CMIP6',\n",
    "                        variable=['zostoga', 'zos', 'tas'],\n",
    "                        frequency='mon',\n",
    "                        experiment_id=['ssp585', 'ssp370', 'ssp245', 'ssp126'])\n",
    "# Loop over available sources\n",
    "sources = sorted(ctx1.facet_counts['source_id'].keys())\n",
    "for source_id in sources:\n",
    "    # Constrain search to source, to identify available members\n",
    "    ctx2 = ctx1.constrain(source_id=source_id)\n",
    "    # Find r1i1 members (requirement #4)\n",
    "    members = sorted(ctx2.facet_counts['member_id'].keys())\n",
    "    members = [m for m in members if bool(re.match('r1i1', m))]\n",
    "    # Loop over members\n",
    "    for member_id in members:\n",
    "        # Search for available experiments for this source-member pair\n",
    "        ctx3 = conn.new_context(project='CMIP6',\n",
    "                                variable=['zostoga', 'zos', 'tas'],\n",
    "                                frequency='mon',\n",
    "                                source_id=source_id,\n",
    "                                member_id=member_id)\n",
    "        experiments = sorted(ctx3.facet_counts['experiment_id'].keys())\n",
    "        # Limit to experiments of interest\n",
    "        experiments = [e for e in experiments if e in ['piControl', 'historical',\n",
    "                                                       'ssp585', 'ssp370', 'ssp245', 'ssp126']]\n",
    "        # Are data available for both the historical and piControl experiments?\n",
    "        if ('historical' in experiments) and ('piControl' in experiments):\n",
    "            # Save to dictionary\n",
    "            source_member_experiment_dict[(source_id, member_id)] = experiments\n",
    "            # Print\n",
    "            print(f'{source_id} {member_id}: {experiments}')\n",
    "# Summarise number of source-member pairs identified\n",
    "print(f'{len(source_member_experiment_dict)} source-member pairs identified.')"
   ]
  },
  {
   "cell_type": "code",
   "execution_count": 6,
   "id": "09a6ef19",
   "metadata": {},
   "outputs": [
    {
     "name": "stdout",
     "output_type": "stream",
     "text": [
      "Tue Jan 18 17:21:26 +08 2022\r\n"
     ]
    }
   ],
   "source": [
    "! date"
   ]
  }
 ],
 "metadata": {
  "kernelspec": {
   "display_name": "Python 3 (ipykernel)",
   "language": "python",
   "name": "python3"
  },
  "language_info": {
   "codemirror_mode": {
    "name": "ipython",
    "version": 3
   },
   "file_extension": ".py",
   "mimetype": "text/x-python",
   "name": "python",
   "nbconvert_exporter": "python",
   "pygments_lexer": "ipython3",
   "version": "3.9.7"
  }
 },
 "nbformat": 4,
 "nbformat_minor": 5
}
