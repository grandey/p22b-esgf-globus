{
 "cells": [
  {
   "cell_type": "markdown",
   "id": "a8928f01",
   "metadata": {},
   "source": [
    "# create_cmip6_globus_batch_files.ipynb\n",
    "Create Globus batch files and scripts for ESGF CMIP6 data of interest.\n",
    "\n",
    "B. Grandey, 2022."
   ]
  },
  {
   "cell_type": "code",
   "execution_count": 1,
   "id": "877eeddf",
   "metadata": {},
   "outputs": [
    {
     "name": "stdout",
     "output_type": "stream",
     "text": [
      "Tue Jan 18 16:25:27 +08 2022\r\n"
     ]
    }
   ],
   "source": [
    "! date"
   ]
  },
  {
   "cell_type": "code",
   "execution_count": 2,
   "id": "3a43717a",
   "metadata": {},
   "outputs": [
    {
     "name": "stdout",
     "output_type": "stream",
     "text": [
      "pandas.__version__ = 1.3.5\n",
      "pyesgf.__version__ = 0.3.0\n",
      "re.__version__ = 2.2.1\n"
     ]
    }
   ],
   "source": [
    "import datetime\n",
    "import pandas as pd\n",
    "import pathlib\n",
    "import pyesgf\n",
    "from pyesgf.search import SearchConnection\n",
    "import re\n",
    "\n",
    "# Print versions of packages\n",
    "for module in [pd, pyesgf, re]:\n",
    "    try:\n",
    "        print('{}.__version__ = {}'.format(module.__name__, module.__version__))\n",
    "    except AttributeError:\n",
    "        pass"
   ]
  },
  {
   "cell_type": "markdown",
   "id": "f31edb57",
   "metadata": {},
   "source": [
    "## Base paths"
   ]
  },
  {
   "cell_type": "code",
   "execution_count": 3,
   "id": "65661ec3",
   "metadata": {},
   "outputs": [],
   "source": [
    "# Base path in which to save batch files and scripts\n",
    "out_base = pathlib.Path('cmip6_globus_batch_files/').resolve()\n",
    "out_base.mkdir(exist_ok=True)  # create directory if it does not yet exist\n",
    "# Directory in which to save local cache for search connection\n",
    "cache_dir = pathlib.Path('cache/').resolve()\n",
    "cache_dir.mkdir(exist_ok=True)"
   ]
  },
  {
   "cell_type": "markdown",
   "id": "0de8098c",
   "metadata": {},
   "source": [
    "## Establish search connection"
   ]
  },
  {
   "cell_type": "code",
   "execution_count": 4,
   "id": "98ec669f",
   "metadata": {},
   "outputs": [
    {
     "data": {
      "text/plain": [
       "<pyesgf.search.connection.SearchConnection at 0x7fec2cb32ee0>"
      ]
     },
     "execution_count": 4,
     "metadata": {},
     "output_type": "execute_result"
    }
   ],
   "source": [
    "# Establish search connection\n",
    "expire_after = datetime.timedelta(days=10)  # cache expiry\n",
    "conn = SearchConnection('https://esgf-node.llnl.gov/esg-search',\n",
    "                        distrib=True,\n",
    "                        cache='cache/pyesgf_cache',  # enable local cache\n",
    "                        expire_after=expire_after)\n",
    "conn"
   ]
  },
  {
   "cell_type": "code",
   "execution_count": 5,
   "id": "46ebdbe9",
   "metadata": {},
   "outputs": [
    {
     "name": "stdout",
     "output_type": "stream",
     "text": [
      "Tue Jan 18 16:33:50 +08 2022\r\n"
     ]
    }
   ],
   "source": [
    "! date"
   ]
  },
  {
   "cell_type": "code",
   "execution_count": null,
   "id": "38b8d5b1",
   "metadata": {},
   "outputs": [],
   "source": []
  }
 ],
 "metadata": {
  "kernelspec": {
   "display_name": "Python 3 (ipykernel)",
   "language": "python",
   "name": "python3"
  },
  "language_info": {
   "codemirror_mode": {
    "name": "ipython",
    "version": 3
   },
   "file_extension": ".py",
   "mimetype": "text/x-python",
   "name": "python",
   "nbconvert_exporter": "python",
   "pygments_lexer": "ipython3",
   "version": "3.9.7"
  }
 },
 "nbformat": 4,
 "nbformat_minor": 5
}
